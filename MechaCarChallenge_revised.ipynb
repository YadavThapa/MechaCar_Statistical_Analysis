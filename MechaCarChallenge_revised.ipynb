{
 "cells": [
  {
   "cell_type": "code",
   "execution_count": 1,
   "metadata": {},
   "outputs": [
    {
     "name": "stderr",
     "output_type": "stream",
     "text": [
      "\n",
      "Attaching package: 'dplyr'\n",
      "\n",
      "The following objects are masked from 'package:stats':\n",
      "\n",
      "    filter, lag\n",
      "\n",
      "The following objects are masked from 'package:base':\n",
      "\n",
      "    intersect, setdiff, setequal, union\n",
      "\n"
     ]
    }
   ],
   "source": [
    "## importing library\n",
    "library(dplyr)"
   ]
  },
  {
   "cell_type": "code",
   "execution_count": 2,
   "metadata": {},
   "outputs": [
    {
     "name": "stdout",
     "output_type": "stream",
     "text": [
      "'data.frame':\t50 obs. of  6 variables:\n",
      " $ vehicle_length  : num  14.7 12.5 20 13.4 15.4 ...\n",
      " $ vehicle_weight  : num  6408 5182 8338 9420 3773 ...\n",
      " $ spoiler_angle   : num  48.8 90 78.6 55.9 26.1 ...\n",
      " $ ground_clearance: num  14.6 14.4 12.3 13 15.1 ...\n",
      " $ AWD             : int  1 1 0 1 1 0 0 1 1 1 ...\n",
      " $ mpg             : num  49 36.8 80 18.9 63.8 ...\n"
     ]
    }
   ],
   "source": [
    "## import and reading the data\n",
    "MechaCar_mpg_df = read.csv(file.choose())\n",
    "str(MechaCar_mpg_df)"
   ]
  },
  {
   "cell_type": "code",
   "execution_count": 3,
   "metadata": {},
   "outputs": [
    {
     "data": {
      "text/plain": [
       "\n",
       "Call:\n",
       "lm(formula = mpg ~ ., data = MechaCar_mpg_df)\n",
       "\n",
       "Residuals:\n",
       "     Min       1Q   Median       3Q      Max \n",
       "-19.4701  -4.4994  -0.0692   5.4433  18.5849 \n",
       "\n",
       "Coefficients:\n",
       "                   Estimate Std. Error t value Pr(>|t|)    \n",
       "(Intercept)      -1.040e+02  1.585e+01  -6.559 5.08e-08 ***\n",
       "vehicle_length    6.267e+00  6.553e-01   9.563 2.60e-12 ***\n",
       "vehicle_weight    1.245e-03  6.890e-04   1.807   0.0776 .  \n",
       "spoiler_angle     6.877e-02  6.653e-02   1.034   0.3069    \n",
       "ground_clearance  3.546e+00  5.412e-01   6.551 5.21e-08 ***\n",
       "AWD              -3.411e+00  2.535e+00  -1.346   0.1852    \n",
       "---\n",
       "Signif. codes:  0 '***' 0.001 '**' 0.01 '*' 0.05 '.' 0.1 ' ' 1\n",
       "\n",
       "Residual standard error: 8.774 on 44 degrees of freedom\n",
       "Multiple R-squared:  0.7149,\tAdjusted R-squared:  0.6825 \n",
       "F-statistic: 22.07 on 5 and 44 DF,  p-value: 5.35e-11\n"
      ]
     },
     "metadata": {},
     "output_type": "display_data"
    }
   ],
   "source": [
    "## perform linear regression\n",
    "mylr <-lm(mpg~.,data= MechaCar_mpg_df) \n",
    "summary(mylr)"
   ]
  },
  {
   "cell_type": "code",
   "execution_count": 4,
   "metadata": {},
   "outputs": [],
   "source": [
    "## Deliverable-2 Create Visualizations for the Trip Analysis \n",
    "## part a : summarising data without using group_by function"
   ]
  },
  {
   "cell_type": "code",
   "execution_count": 5,
   "metadata": {},
   "outputs": [
    {
     "name": "stdout",
     "output_type": "stream",
     "text": [
      "'data.frame':\t150 obs. of  3 variables:\n",
      " $ VehicleID        : Factor w/ 149 levels \"V10053\",\"V1037\",..: 95 94 63 131 133 21 81 142 96 117 ...\n",
      " $ Manufacturing_Lot: Factor w/ 3 levels \"Lot1\",\"Lot2\",..: 1 1 1 1 1 1 1 1 1 1 ...\n",
      " $ PSI              : num  1499 1500 1501 1500 1498 ...\n"
     ]
    }
   ],
   "source": [
    "suspension_coil_df = read.csv(file.choose())\n",
    "str(suspension_coil_df)"
   ]
  },
  {
   "cell_type": "code",
   "execution_count": 6,
   "metadata": {},
   "outputs": [],
   "source": [
    "total_summary <- suspension_coil_df %>% summarize(\n",
    "  mean= mean(PSI),\n",
    "  median= median(PSI),\n",
    "  stdev = sd(PSI),\n",
    "  var= var(PSI)\n",
    ")"
   ]
  },
  {
   "cell_type": "code",
   "execution_count": 7,
   "metadata": {},
   "outputs": [
    {
     "data": {
      "text/html": [
       "<table>\n",
       "<thead><tr><th scope=col>mean</th><th scope=col>median</th><th scope=col>stdev</th><th scope=col>var</th></tr></thead>\n",
       "<tbody>\n",
       "\t<tr><td>1499.531</td><td>1499.747</td><td>8.731242</td><td>76.23459</td></tr>\n",
       "</tbody>\n",
       "</table>\n"
      ],
      "text/latex": [
       "\\begin{tabular}{r|llll}\n",
       " mean & median & stdev & var\\\\\n",
       "\\hline\n",
       "\t 1499.531 & 1499.747 & 8.731242 & 76.23459\\\\\n",
       "\\end{tabular}\n"
      ],
      "text/markdown": [
       "\n",
       "| mean | median | stdev | var |\n",
       "|---|---|---|---|\n",
       "| 1499.531 | 1499.747 | 8.731242 | 76.23459 |\n",
       "\n"
      ],
      "text/plain": [
       "  mean     median   stdev    var     \n",
       "1 1499.531 1499.747 8.731242 76.23459"
      ]
     },
     "metadata": {},
     "output_type": "display_data"
    }
   ],
   "source": [
    "total_summary"
   ]
  },
  {
   "cell_type": "code",
   "execution_count": 8,
   "metadata": {},
   "outputs": [],
   "source": [
    "#################################################################\n",
    "## part b : summarising data using group_by function"
   ]
  },
  {
   "cell_type": "code",
   "execution_count": 9,
   "metadata": {},
   "outputs": [],
   "source": [
    "df = read.csv(file.choose())"
   ]
  },
  {
   "cell_type": "code",
   "execution_count": 10,
   "metadata": {},
   "outputs": [
    {
     "name": "stdout",
     "output_type": "stream",
     "text": [
      "'data.frame':\t150 obs. of  3 variables:\n",
      " $ VehicleID        : Factor w/ 149 levels \"V10053\",\"V1037\",..: 95 94 63 131 133 21 81 142 96 117 ...\n",
      " $ Manufacturing_Lot: Factor w/ 3 levels \"Lot1\",\"Lot2\",..: 1 1 1 1 1 1 1 1 1 1 ...\n",
      " $ PSI              : num  1499 1500 1501 1500 1498 ...\n"
     ]
    }
   ],
   "source": [
    "str(df)"
   ]
  },
  {
   "cell_type": "code",
   "execution_count": 11,
   "metadata": {},
   "outputs": [],
   "source": [
    "lot_summary<- df%>%\n",
    "  group_by(Manufacturing_Lot)%>%\n",
    "  summarise(\n",
    "    mean = mean(PSI),\n",
    "    median = median(PSI),\n",
    "    stdev = sd(PSI),\n",
    "    variance= var(PSI))"
   ]
  },
  {
   "cell_type": "code",
   "execution_count": 12,
   "metadata": {},
   "outputs": [
    {
     "data": {
      "text/html": [
       "<table>\n",
       "<thead><tr><th scope=col>Manufacturing_Lot</th><th scope=col>mean</th><th scope=col>median</th><th scope=col>stdev</th><th scope=col>variance</th></tr></thead>\n",
       "<tbody>\n",
       "\t<tr><td>Lot1      </td><td>1500.018  </td><td>1500.206  </td><td> 1.070525 </td><td>  1.146024</td></tr>\n",
       "\t<tr><td>Lot2      </td><td>1499.571  </td><td>1498.873  </td><td> 3.183003 </td><td> 10.131511</td></tr>\n",
       "\t<tr><td>Lot3      </td><td>1499.004  </td><td>1497.981  </td><td>14.832753 </td><td>220.010563</td></tr>\n",
       "</tbody>\n",
       "</table>\n"
      ],
      "text/latex": [
       "\\begin{tabular}{r|lllll}\n",
       " Manufacturing\\_Lot & mean & median & stdev & variance\\\\\n",
       "\\hline\n",
       "\t Lot1       & 1500.018   & 1500.206   &  1.070525  &   1.146024\\\\\n",
       "\t Lot2       & 1499.571   & 1498.873   &  3.183003  &  10.131511\\\\\n",
       "\t Lot3       & 1499.004   & 1497.981   & 14.832753  & 220.010563\\\\\n",
       "\\end{tabular}\n"
      ],
      "text/markdown": [
       "\n",
       "| Manufacturing_Lot | mean | median | stdev | variance |\n",
       "|---|---|---|---|---|\n",
       "| Lot1       | 1500.018   | 1500.206   |  1.070525  |   1.146024 |\n",
       "| Lot2       | 1499.571   | 1498.873   |  3.183003  |  10.131511 |\n",
       "| Lot3       | 1499.004   | 1497.981   | 14.832753  | 220.010563 |\n",
       "\n"
      ],
      "text/plain": [
       "  Manufacturing_Lot mean     median   stdev     variance  \n",
       "1 Lot1              1500.018 1500.206  1.070525   1.146024\n",
       "2 Lot2              1499.571 1498.873  3.183003  10.131511\n",
       "3 Lot3              1499.004 1497.981 14.832753 220.010563"
      ]
     },
     "metadata": {},
     "output_type": "display_data"
    }
   ],
   "source": [
    "lot_summary"
   ]
  },
  {
   "cell_type": "code",
   "execution_count": 13,
   "metadata": {},
   "outputs": [],
   "source": [
    "## Deliverable-3 (T-Tests on Suspension Coils)\n",
    "## Perform t-test against 3 lots"
   ]
  },
  {
   "cell_type": "code",
   "execution_count": 14,
   "metadata": {},
   "outputs": [
    {
     "data": {
      "text/plain": [
       "\n",
       "\tOne Sample t-test\n",
       "\n",
       "data:  log10(df$PSI)\n",
       "t = -0.69294, df = 149, p-value = 0.4894\n",
       "alternative hypothesis: true mean is not equal to 3.176091\n",
       "95 percent confidence interval:\n",
       " 3.175540 3.176356\n",
       "sample estimates:\n",
       "mean of x \n",
       " 3.175948 \n"
      ]
     },
     "metadata": {},
     "output_type": "display_data"
    }
   ],
   "source": [
    "t.test(x=log10(df$PSI),mu=mean(log10(1500)))"
   ]
  },
  {
   "cell_type": "code",
   "execution_count": 15,
   "metadata": {},
   "outputs": [
    {
     "data": {
      "text/plain": [
       "\n",
       "\tOne Sample t-test\n",
       "\n",
       "data:  subset(x = log10(df$PSI), df$Manufacturing_Lot == \"Lot1\")\n",
       "t = 0.11778, df = 49, p-value = 0.9067\n",
       "alternative hypothesis: true mean is not equal to 3.176091\n",
       "95 percent confidence interval:\n",
       " 3.176008 3.176185\n",
       "sample estimates:\n",
       "mean of x \n",
       " 3.176096 \n"
      ]
     },
     "metadata": {},
     "output_type": "display_data"
    }
   ],
   "source": [
    "# performing T-test for lot-1 sample\n",
    "t.test(x=subset(x=log10(df$PSI),df$Manufacturing_Lot=='Lot1'),mu=log10(1500))"
   ]
  },
  {
   "cell_type": "code",
   "execution_count": 16,
   "metadata": {},
   "outputs": [
    {
     "data": {
      "text/plain": [
       "\n",
       "\tOne Sample t-test\n",
       "\n",
       "data:  subset(x = log10(df$PSI), df$Manufacturing_Lot == \"Lot2\")\n",
       "t = -0.9603, df = 49, p-value = 0.3416\n",
       "alternative hypothesis: true mean is not equal to 3.176091\n",
       "95 percent confidence interval:\n",
       " 3.175704 3.176228\n",
       "sample estimates:\n",
       "mean of x \n",
       " 3.175966 \n"
      ]
     },
     "metadata": {},
     "output_type": "display_data"
    }
   ],
   "source": [
    "# performing T-test for lot-2 sample\n",
    "t.test(x=subset(x=log10(df$PSI),df$Manufacturing_Lot=='Lot2'),mu=log10(1500))"
   ]
  },
  {
   "cell_type": "code",
   "execution_count": 17,
   "metadata": {},
   "outputs": [
    {
     "data": {
      "text/plain": [
       "\n",
       "\tOne Sample t-test\n",
       "\n",
       "data:  subset(x = log10(df$PSI), df$Manufacturing_Lot == \"Lot3\")\n",
       "t = -0.50905, df = 49, p-value = 0.613\n",
       "alternative hypothesis: true mean is not equal to 3.176091\n",
       "95 percent confidence interval:\n",
       " 3.174561 3.177003\n",
       "sample estimates:\n",
       "mean of x \n",
       " 3.175782 \n"
      ]
     },
     "metadata": {},
     "output_type": "display_data"
    }
   ],
   "source": [
    "# performing T-test for lot-3 sample\n",
    "t.test(x=subset(x=log10(df$PSI),df$Manufacturing_Lot=='Lot3'),mu=log10(1500))"
   ]
  },
  {
   "cell_type": "code",
   "execution_count": 18,
   "metadata": {},
   "outputs": [],
   "source": [
    "################################################################################\n",
    "## Filtering data with Lots\n",
    "lot1_df = df%>% filter(Manufacturing_Lot=='Lot1')\n",
    "lot2_df = df%>% filter(Manufacturing_Lot=='Lot2')\n",
    "lot3_df = df%>% filter(Manufacturing_Lot=='Lot3')"
   ]
  },
  {
   "cell_type": "code",
   "execution_count": 20,
   "metadata": {},
   "outputs": [],
   "source": [
    "################################################################################\n",
    "## Testing Normality of the data"
   ]
  },
  {
   "cell_type": "code",
   "execution_count": 21,
   "metadata": {},
   "outputs": [
    {
     "data": {
      "text/plain": [
       "\n",
       "\tShapiro-Wilk normality test\n",
       "\n",
       "data:  lot1_df$PSI\n",
       "W = 0.93767, p-value = 0.01091\n"
      ]
     },
     "metadata": {},
     "output_type": "display_data"
    },
    {
     "data": {
      "text/plain": [
       "\n",
       "\tShapiro-Wilk normality test\n",
       "\n",
       "data:  lot2_df$PSI\n",
       "W = 0.97282, p-value = 0.3004\n"
      ]
     },
     "metadata": {},
     "output_type": "display_data"
    },
    {
     "data": {
      "text/plain": [
       "\n",
       "\tShapiro-Wilk normality test\n",
       "\n",
       "data:  lot3_df$PSI\n",
       "W = 0.9864, p-value = 0.8299\n"
      ]
     },
     "metadata": {},
     "output_type": "display_data"
    }
   ],
   "source": [
    "shapiro.test(lot1_df$PSI)\n",
    "shapiro.test(lot2_df$PSI)\n",
    "shapiro.test(lot3_df$PSI)"
   ]
  },
  {
   "cell_type": "code",
   "execution_count": null,
   "metadata": {},
   "outputs": [],
   "source": [
    "##################### The End ###########################"
   ]
  }
 ],
 "metadata": {
  "kernelspec": {
   "display_name": "R",
   "language": "R",
   "name": "ir"
  },
  "language_info": {
   "codemirror_mode": "r",
   "file_extension": ".r",
   "mimetype": "text/x-r-source",
   "name": "R",
   "pygments_lexer": "r",
   "version": "3.6.1"
  }
 },
 "nbformat": 4,
 "nbformat_minor": 4
}
